{
 "cells": [
  {
   "cell_type": "code",
   "execution_count": 3,
   "metadata": {},
   "outputs": [],
   "source": [
    "import tkinter\n",
    "from tkinter import *\n",
    "from PIL import Image, ImageTk\n",
    "import os\n",
    "\n",
    "\n",
    "def window2():\n",
    "    root.destroy()\n",
    "    #w = Tk()\n",
    "    #w.geometry(\"1400x900\")\n",
    "    #label_2 = Label(w,text=\"Page 2\",fg=\"blue violet\")\n",
    "    #label_2.place(x=130,y=300)\n",
    "    os.system('python gui.py')\n",
    "    #w.mainloop()\n",
    "    \n",
    "\n",
    "root = Tk()\n",
    "root.geometry(\"1400x900\")\n",
    "# Create a photoimage object of the image in the path\n",
    "image1 = Image.open(\"sgbit.jpg\")\n",
    "test = ImageTk.PhotoImage(image1)\n",
    "\n",
    "label1 = tkinter.Label(image=test)\n",
    "label1.image = test\n",
    "\n",
    "# Position image\n",
    "label1.place(x=50, y=80)\n",
    "\n",
    "label = tkinter.Label(text=\"S.G. Balekundri Intitute of Technology\", font=('arial' ,20 ,'bold'),bd=10)\n",
    "label.place(x=450,y=20)\n",
    "\n",
    "b1 = tkinter.Button(root, text=\"Proceede\", command=window2 ,padx=10 ,pady=5 ,bd=5 ,fg=\"Black\", font=('arial' ,10 ,'bold') ,bg=\"red\")\n",
    "b1.place(x=650,y=650)\n",
    "root.mainloop()"
   ]
  },
  {
   "cell_type": "code",
   "execution_count": null,
   "metadata": {},
   "outputs": [],
   "source": []
  },
  {
   "cell_type": "code",
   "execution_count": null,
   "metadata": {},
   "outputs": [],
   "source": []
  }
 ],
 "metadata": {
  "kernelspec": {
   "display_name": "Python 3",
   "language": "python",
   "name": "python3"
  },
  "language_info": {
   "codemirror_mode": {
    "name": "ipython",
    "version": 3
   },
   "file_extension": ".py",
   "mimetype": "text/x-python",
   "name": "python",
   "nbconvert_exporter": "python",
   "pygments_lexer": "ipython3",
   "version": "3.6.5"
  }
 },
 "nbformat": 4,
 "nbformat_minor": 2
}
